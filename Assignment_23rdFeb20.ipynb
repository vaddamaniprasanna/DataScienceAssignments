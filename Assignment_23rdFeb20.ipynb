{
 "cells": [
  {
   "cell_type": "code",
   "execution_count": 13,
   "metadata": {},
   "outputs": [
    {
     "name": "stdin",
     "output_type": "stream",
     "text": [
      "Enter the input string:  prasanna\n"
     ]
    },
    {
     "name": "stdout",
     "output_type": "stream",
     "text": [
      "pr\n",
      "na\n",
      "Output string with first and last 2 charecters: prna\n"
     ]
    }
   ],
   "source": [
    "# Assignement 1: Input a string and output a substring made of first 2 charecters and last 2 charecters\n",
    "\n",
    "string = input(\"Enter the input string: \")\n",
    "st_str = string [0 : 2 : +1]\n",
    "print(st_str)\n",
    "lt_str = string [len(string)-2 : len(string) : +1]\n",
    "print(lt_str)\n",
    "print('Output string with first and last 2 charecters: '+st_str+''+lt_str)"
   ]
  },
  {
   "cell_type": "code",
   "execution_count": 34,
   "metadata": {},
   "outputs": [
    {
     "name": "stdin",
     "output_type": "stream",
     "text": [
      "Enter the sample string:  simplyfying\n"
     ]
    },
    {
     "name": "stdout",
     "output_type": "stream",
     "text": [
      "input string is  simplyfying\n",
      "last 2 charecters is ng\n",
      "last 3 chars are ing\n",
      "simplyfyly\n"
     ]
    }
   ],
   "source": [
    "# Assignment 2: Take sample strings, check the last charecters of the string, if its 'ly' change it with 'ing' and vice versa\n",
    "\n",
    "in_string = input(\"Enter the sample string: \")\n",
    "lt_2_chars = in_string[len(in_string)-2 : len(in_string) : +1]\n",
    "lt_3_chars = in_string[len(in_string)-3 : len(in_string) : +1]\n",
    "\n",
    "if (lt_2_chars == 'ly'):\n",
    "    print(in_string[0 : len(in_string) -2 : +1] + 'ing')\n",
    "    \n",
    "elif (lt_3_chars == 'ing'):\n",
    "       print(in_string[0 : len(in_string) -3 : +1] + 'ly')\n",
    "else:\n",
    "        print(\"String doesn't have either 'ly' or 'ing' at the end of it\")\n"
   ]
  },
  {
   "cell_type": "code",
   "execution_count": 57,
   "metadata": {},
   "outputs": [
    {
     "name": "stdin",
     "output_type": "stream",
     "text": [
      "Enter the sentence:  hello world\n"
     ]
    },
    {
     "name": "stdout",
     "output_type": "stream",
     "text": [
      "String convertion:  hello#world\n"
     ]
    }
   ],
   "source": [
    "# Assignment 3: Make a string with a sentence; seperate on space, Print each string ending with a #\n",
    "\n",
    "assin3_stmt = input (\"Enter the sentence: \")\n",
    "assin3__output = assin3_stmt.replace(\" \",\"#\")\n",
    "print(\"String convertion: \",assin3__output)"
   ]
  },
  {
   "cell_type": "code",
   "execution_count": 56,
   "metadata": {},
   "outputs": [
    {
     "name": "stdout",
     "output_type": "stream",
     "text": [
      "\n",
      " Assignment 4 input string -  How much wood would a woodchuck chuck if a woodchuck chuck if a chuck could chuck\n",
      "\n",
      "Output Statement without wood - How much  would a chuck chuck if a chuck chuck if a chuck could chuck\n"
     ]
    }
   ],
   "source": [
    "# Assignment 4: Extract the string without 'wood' from the given string and print the remaining stentence\n",
    "assin4_stmt = 'How much wood would a woodchuck chuck if a woodchuck chuck if a chuck could chuck'\n",
    "out_stmt_replacement = assin4_stmt.replace(\"wood\",'')\n",
    "print(\"\\n Assignment 4 input string - \",assin4_stmt)\n",
    "print(\"\\nOutput Statement without wood - \"+out_stmt_replacement)"
   ]
  },
  {
   "cell_type": "code",
   "execution_count": 53,
   "metadata": {},
   "outputs": [
    {
     "name": "stdin",
     "output_type": "stream",
     "text": [
      "would like to enter a string (Y/N)  Y\n",
      "Enter the string:  madam\n"
     ]
    },
    {
     "name": "stdout",
     "output_type": "stream",
     "text": [
      "\n",
      "Removing 1st and last charecters, the string is ada\n"
     ]
    },
    {
     "name": "stdin",
     "output_type": "stream",
     "text": [
      "\n",
      "would like to enter a string (Y/N)  N\n"
     ]
    }
   ],
   "source": [
    "# Assignement 5: input 'madam', 'minimum' and output should be 'ada', 'inimu'\n",
    "assin5_stmt = input ('would like to enter a string (Y/N) ')\n",
    "while (assin5_stmt == 'Y'):\n",
    "    assin5_stmt = input (\"Enter the string: \")\n",
    "    print ('\\nRemoving 1st and last charecters, the string is '+assin5_stmt[1 : len(assin5_stmt)-1 : ])\n",
    "    assin5_stmt = input ('\\nWould like to enter a string (Y/N) ')"
   ]
  },
  {
   "cell_type": "code",
   "execution_count": 35,
   "metadata": {},
   "outputs": [
    {
     "name": "stdout",
     "output_type": "stream",
     "text": [
      "4\n"
     ]
    }
   ],
   "source": [
    "# Assignment 6: Find places when 'chuck' occurs in the string: 'How much wood would a woodchuck chuck if a woodchuck could chuck wood'\n",
    "assin6_stmt = 'How much wood would a woodchuck chuck if a woodchuck could chuck wood'\n",
    "print(assin6_stmt.count('chuck'))"
   ]
  },
  {
   "cell_type": "code",
   "execution_count": 38,
   "metadata": {},
   "outputs": [
    {
     "name": "stdout",
     "output_type": "stream",
     "text": [
      "Actual statement of Assignment 7 is  today's news: trump comes to gujarat\n",
      "\n",
      "After transalation, the result is  Today's news: Trump comes to GUJARAT\n"
     ]
    }
   ],
   "source": [
    "# Assignment 7: input: 'today's news: trump comes to gujarat\" and output \"Today's news: Trump comes to GUJARAT\"\n",
    "assin7_stmt= \"today's news: trump comes to gujarat\"\n",
    "out_stmt = assin7_stmt.capitalize()\n",
    "out_stmt = out_stmt.replace('trump','Trump')\n",
    "out_stmt = out_stmt.replace('gujarat','GUJARAT')\n",
    "\n",
    "print (\"Actual statement of Assignment 7 is \",assin7_stmt)\n",
    "print(\"\\nAfter transalation, the result is \", out_stmt)\n"
   ]
  },
  {
   "cell_type": "code",
   "execution_count": 41,
   "metadata": {},
   "outputs": [
    {
     "name": "stdin",
     "output_type": "stream",
     "text": [
      "Enter the Assignment 8 string:  fsdfsdsdfsdf\n"
     ]
    },
    {
     "name": "stdout",
     "output_type": "stream",
     "text": [
      "\n",
      "Stmt after adding * in the middle of the sting is  fsdfsd*sdfsdf\n"
     ]
    }
   ],
   "source": [
    "#Assignment 8: In a sample string, add '*' in the middle of the sting\n",
    "assin8_stmt = input(\"Enter the Assignment 8 string: \")\n",
    "\n",
    "length = int(len(assin8_stmt))\n",
    "mid_val = int(length/2)\n",
    "\n",
    "assin8_out_stmt = (assin8_stmt [0 : mid_val] ) + \"*\" + (assin8_stmt [mid_val :] )\n",
    "\n",
    "print(\"\\nStmt after adding * in the middle of the sting is \",assin8_out_stmt)\n"
   ]
  },
  {
   "cell_type": "code",
   "execution_count": 42,
   "metadata": {},
   "outputs": [
    {
     "name": "stdout",
     "output_type": "stream",
     "text": [
      "Assignment 9 Output1 is queueueue\n",
      "\n",
      "Assignment 9 Output2 is He went on and on and on and on and on and on and on and on\n"
     ]
    }
   ],
   "source": [
    "# Assignment 9: Create a string by adding replicas: input: 'que' output: 'queueue', \n",
    "# input: 'He went on and on' output: He went on and on and on and on and on and on\n",
    "\n",
    "assin9_stmt1=\"que\"\n",
    "assin9_stmt2 = \"He went on and on\"\n",
    "\n",
    "assin9_out1 = assin9_stmt1 + (assin9_stmt1[1 :3] *3)\n",
    "print('Assignment 9 Output1 is '+assin9_out1)\n",
    "\n",
    "assin9_out2 = assin9_stmt2+(' and'+assin9_stmt2[7: len(assin9_stmt2)]) *3\n",
    "print ('\\nAssignment 9 Output2 is '+assin9_out2)"
   ]
  },
  {
   "cell_type": "code",
   "execution_count": 43,
   "metadata": {},
   "outputs": [
    {
     "name": "stdout",
     "output_type": "stream",
     "text": [
      "\n",
      "Before converting lower to upper case and vice versa is  Hi, thERe\n",
      "\n",
      "After converting lower to upper case and vice versa is  hI, THerE\n"
     ]
    }
   ],
   "source": [
    "# Assignment 10: In a string convert the lower cases into upper and vice versa\n",
    "# input: 'Hi, thERe.'\n",
    "# output: 'hI, THerE.'\n",
    "assin10_stmt1 = 'Hi, thERe'\n",
    "assin10_out_stmt1 = assin10_stmt1.swapcase()\n",
    "print(\"\\nBefore converting lower to upper case and vice versa is \",assin10_stmt1)\n",
    "print(\"\\nAfter converting lower to upper case and vice versa is \",assin10_out_stmt1)\n"
   ]
  },
  {
   "cell_type": "code",
   "execution_count": 52,
   "metadata": {},
   "outputs": [
    {
     "name": "stdin",
     "output_type": "stream",
     "text": [
      "Enter the value for conversion:  56\n"
     ]
    },
    {
     "name": "stdout",
     "output_type": "stream",
     "text": [
      "\n",
      "Digit to Binary conversion is  0b111000\n"
     ]
    }
   ],
   "source": [
    "# Assignement 11: If the string is digit, print its binary else print its ASCII code\n",
    "# input: 2\n",
    "# output: 0b10\n",
    "# input: 'B'\n",
    "# output: 66\n",
    "\n",
    "assin11_stmt = input ('Enter the value for conversion: ')\n",
    "\n",
    "if assin11_stmt.isdigit():\n",
    "    digit2bin = bin(int(assin11_stmt))\n",
    "    print(\"\\nDigit to Binary conversion is \", digit2bin)\n",
    "else:\n",
    "    str2ASCII = ord(assin11_stmt)\n",
    "    print (\"\\nCharecter to ASCII conversion is \",str2ASCII)\n"
   ]
  }
 ],
 "metadata": {
  "kernelspec": {
   "display_name": "Python 3",
   "language": "python",
   "name": "python3"
  },
  "language_info": {
   "codemirror_mode": {
    "name": "ipython",
    "version": 3
   },
   "file_extension": ".py",
   "mimetype": "text/x-python",
   "name": "python",
   "nbconvert_exporter": "python",
   "pygments_lexer": "ipython3",
   "version": "3.7.4"
  }
 },
 "nbformat": 4,
 "nbformat_minor": 4
}
